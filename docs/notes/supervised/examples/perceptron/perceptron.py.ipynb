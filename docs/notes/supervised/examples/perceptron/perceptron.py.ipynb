{
 "cells": [
  {
   "cell_type": "code",
   "execution_count": 22,
   "metadata": {
    "collapsed": true
   },
   "outputs": [],
   "source": [
    "import numpy as np\n",
    "# Setting the random seed, feel free to change it and see different solutions.\n",
    "np.random.seed(42)\n",
    "\n",
    "def stepFunction(t):\n",
    "    if t >= 0:\n",
    "        return 1\n",
    "    return 0\n",
    "\n",
    "def prediction(X, W, b):\n",
    "    return stepFunction((np.matmul(X,W)+b)[0])"
   ]
  },
  {
   "cell_type": "code",
   "execution_count": 37,
   "outputs": [],
   "source": [
    "# TODO: Fill in the code below to implement the perceptron trick.\n",
    "# The function should receive as inputs the data X, the labels y,\n",
    "# the weights W (as an array), and the bias b,\n",
    "# update the weights and bias W, b, according to the perceptron algorithm,\n",
    "# and return W and b.\n",
    "def perceptronStep(X, y, W, b, learn_rate = 0.01):\n",
    "    # Fill in code\n",
    "    for i in range(len(y)):\n",
    "        y_hat = prediction(X[i],W,b)\n",
    "\n",
    "        # y[i] is the label\n",
    "        # y_hat is the prediction classification\n",
    "        if (y[i] == 1) & (y_hat==0):\n",
    "            # If the point is classified negative,\n",
    "            # but it has a positive label, add\n",
    "\n",
    "            W[0] = W[0] + X[i][0]*learn_rate\n",
    "            W[1] = W[1] + X[i][1]*learn_rate\n",
    "            b = b + learn_rate\n",
    "        elif (y[i] == 0) & (y_hat==1):\n",
    "            # If the point is classified positive,\n",
    "            # but it has a negative label, subtract\n",
    "            W[0] = W[0] - X[i][0]*learn_rate\n",
    "            W[1] = W[1] - X[i][1]*learn_rate\n",
    "            b = b - learn_rate\n",
    "\n",
    "    return W, b"
   ],
   "metadata": {
    "collapsed": false,
    "pycharm": {
     "name": "#%%\n"
    }
   }
  },
  {
   "cell_type": "code",
   "execution_count": 40,
   "outputs": [],
   "source": [
    "# This function runs the perceptron algorithm repeatedly on the dataset,\n",
    "# and returns a few of the boundary lines obtained in the iterations,\n",
    "# for plotting purposes.\n",
    "# Feel free to play with the learning rate and the num_epochs,\n",
    "# and see your results plotted below.\n",
    "def trainPerceptronAlgorithm(X, y, learn_rate = 0.01, num_epochs = 25):\n",
    "    x_min, x_max = min(X.T[0]), max(X.T[0])\n",
    "    y_min, y_max = min(X.T[1]), max(X.T[1])\n",
    "    W = np.array(np.random.rand(2,1))\n",
    "    b = np.random.rand(1)[0] + x_max\n",
    "    # These are the solution lines that get plotted below.\n",
    "    boundary_lines = []\n",
    "    for i in range(1):\n",
    "        # In each epoch, we apply the perceptron step.\n",
    "        W, b = perceptronStep(X, y, W, b, learn_rate)\n",
    "        boundary_lines.append((-W[0]/W[1], -b/W[1]))\n",
    "    return boundary_lines"
   ],
   "metadata": {
    "collapsed": false,
    "pycharm": {
     "name": "#%%\n"
    }
   }
  },
  {
   "cell_type": "code",
   "execution_count": 41,
   "outputs": [
    {
     "data": {
      "text/plain": "[(array([-0.9061699]), array([-2.39017645])),\n (array([-0.93839023]), array([-1.91280364])),\n (array([-0.95413858]), array([-1.67947772])),\n (array([-0.96347492]), array([-1.54115151])),\n (array([-0.9696529]), array([-1.44961925])),\n (array([-0.97404331]), array([-1.38457149])),\n (array([-0.97732392]), array([-1.33596624])),\n (array([-0.97986833]), array([-1.29826865])),\n (array([-0.98189934]), array([-1.2681774])),\n (array([-0.9835581]), array([-1.24360134])),\n (array([-0.98493837]), array([-1.2231515])),\n (array([-0.98610484]), array([-1.2058692])),\n (array([-0.98710362]), array([-1.19107139])),\n (array([-0.98796844]), array([-1.17825825])),\n (array([-0.98872457]), array([-1.16705559])),\n (array([-0.98939127]), array([-1.15717774])),\n (array([-0.98998354]), array([-1.14840281])),\n (array([-0.99051317]), array([-1.14055585])),\n (array([-0.9909896]), array([-1.13349705])),\n (array([-0.99142047]), array([-1.12711334])),\n (array([-0.99181201]), array([-1.12131229])),\n (array([-0.99216938]), array([-1.11601762])),\n (array([-0.99249685]), array([-1.11116579])),\n (array([-0.99279804]), array([-1.10670348])),\n (array([-0.99307598]), array([-1.10258558]))]"
     },
     "execution_count": 41,
     "metadata": {},
     "output_type": "execute_result"
    }
   ],
   "source": [
    "import pandas as pd\n",
    "\n",
    "df = pd.read_csv('data.csv', header=None)\n",
    "X = df.iloc[:,0:2].values\n",
    "y = df.iloc[:,2].values\n",
    "trainPerceptronAlgorithm(X,y)"
   ],
   "metadata": {
    "collapsed": false,
    "pycharm": {
     "name": "#%%\n"
    }
   }
  }
 ],
 "metadata": {
  "kernelspec": {
   "display_name": "Python 3",
   "language": "python",
   "name": "python3"
  },
  "language_info": {
   "codemirror_mode": {
    "name": "ipython",
    "version": 2
   },
   "file_extension": ".py",
   "mimetype": "text/x-python",
   "name": "python",
   "nbconvert_exporter": "python",
   "pygments_lexer": "ipython2",
   "version": "2.7.6"
  }
 },
 "nbformat": 4,
 "nbformat_minor": 0
}